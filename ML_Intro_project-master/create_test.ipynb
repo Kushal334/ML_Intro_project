{
 "cells": [
  {
   "cell_type": "code",
   "execution_count": 12,
   "metadata": {},
   "outputs": [],
   "source": [
    "import os\n",
    "import shutil\n",
    "\n",
    "src_folder = './face_train'\n",
    "textFileNames = os.listdir(src_folder)\n",
    "dst_folder = './face_test'\n",
    "\n",
    "\n",
    "for i in range(len(textFileNames)):\n",
    "\n",
    "    src_dir = textFileNames[i]\n",
    "    files = os.listdir(src_folder+ '/' +src_dir)\n",
    "    \n",
    "    dir_exists = os.path.isdir(dst_folder+'/'+src_dir)\n",
    "    if not dir_exists:\n",
    "        os.mkdir(dst_folder+'/'+src_dir)\n",
    "    else:\n",
    "        print('save file in' + dst_folder+'/'+src_dir)\n",
    "        \n",
    "    for j in range(10):\n",
    "        src = src_folder+'/'+src_dir+'/'+files[j]\n",
    "        dst = dst_folder+'/'+src_dir+'/'+files[j]\n",
    "        shutil.move(src, dst)"
   ]
  }
 ],
 "metadata": {
  "kernelspec": {
   "display_name": "Python 3",
   "language": "python",
   "name": "python3"
  },
  "language_info": {
   "codemirror_mode": {
    "name": "ipython",
    "version": 3
   },
   "file_extension": ".py",
   "mimetype": "text/x-python",
   "name": "python",
   "nbconvert_exporter": "python",
   "pygments_lexer": "ipython3",
   "version": "3.6.1"
  }
 },
 "nbformat": 4,
 "nbformat_minor": 2
}
